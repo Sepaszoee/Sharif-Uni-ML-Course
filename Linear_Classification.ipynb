{
  "nbformat": 4,
  "nbformat_minor": 0,
  "metadata": {
    "colab": {
      "provenance": [],
      "toc_visible": true,
      "include_colab_link": true
    },
    "kernelspec": {
      "name": "python3",
      "display_name": "Python 3"
    },
    "language_info": {
      "name": "python"
    }
  },
  "cells": [
    {
      "cell_type": "markdown",
      "metadata": {
        "id": "view-in-github",
        "colab_type": "text"
      },
      "source": [
        "<a href=\"https://colab.research.google.com/github/Sepaszoee/Sharif-Uni-ML-Course/blob/main/Linear_Classification.ipynb\" target=\"_parent\"><img src=\"https://colab.research.google.com/assets/colab-badge.svg\" alt=\"Open In Colab\"/></a>"
      ]
    },
    {
      "cell_type": "markdown",
      "source": [
        "<br>\n",
        "<font>\n",
        "<!-- <img src=\"https://cdn.freebiesupply.com/logos/large/2x/sharif-logo-png-transparent.png\" alt=\"SUT logo\" width=300 height=300 align=left class=\"saturate\"> -->\n",
        "<div dir=ltr align=center>\n",
        "<img src=\"https://cdn.freebiesupply.com/logos/large/2x/sharif-logo-png-transparent.png\" width=200 height=200>\n",
        "<br>\n",
        "<font color=0F5298 size=7>\n",
        "Introduction to Machine Learning <br>\n",
        "<font color=696880 size=4>\n",
        "<!-- <br> -->\n",
        "CE 40477 - Fall 2024\n",
        "\n",
        "____\n"
      ],
      "metadata": {
        "id": "yEhXpMmWKBSB"
      }
    },
    {
      "cell_type": "markdown",
      "source": [
        "<font color=green size=6>\n",
        "\n",
        "Recap of linear classification\n",
        "\n",
        "**Steps:**\n",
        "  - visualize a problem of classification and distincting classes\n",
        "  - analyzing linear separability -> one example to show classes can be separated by lines and one example to show classes can not be separated by any line\n",
        "  - From now on, we will focus on discriminative classifiers only\n",
        "  - let's start by SSE cost function. by choosing sparse classes, we could easily observe that the predicted decisson bound is almost terrible ! show that the line is focusing on more dense points rather than classification task.\n",
        "  - then use number of missclassification cost function and show it is non-differentiable thus not helpful.\n",
        "  - finally, define perceptron cost function. It is important to show that each iteration of perceptron (for linearly separable data) is indeed decreasing the error of classification.\n",
        "  - after showing that for linearly separable data, perceptron converges, now show for non-linearly separable data it never does. you could visualize that after some iteration, error is not decreasing no more. -> then implement pocket algorithm to solve this\n",
        "  - after defining perceptron for 2 class example, generalize it to k classes and visualize it.\n",
        "\n",
        "<font color=green size=6>\n",
        "Further exercises\n",
        "\n",
        "  **Suggestions:**\n",
        "  - Using a real cancer dataset to classify patients\n",
        "  - Using a real spam/ham dataset to classify emails\n",
        "  - Could we use feature engineering ??"
      ],
      "metadata": {
        "id": "zv82J-1DKEy8"
      }
    },
    {
      "cell_type": "markdown",
      "source": [
        "# Section 1"
      ],
      "metadata": {
        "id": "O4TzTi2JkYZs"
      }
    },
    {
      "cell_type": "markdown",
      "source": [
        "Importing Required Libraries"
      ],
      "metadata": {
        "id": "djLyVpO9BzPX"
      }
    },
    {
      "cell_type": "code",
      "source": [],
      "metadata": {
        "id": "QdtpO5C_tSI-"
      },
      "execution_count": null,
      "outputs": []
    },
    {
      "cell_type": "markdown",
      "source": [
        "Write a Python function to generate 200 data points for each class according to the specifications:\n",
        "* Class 0: Data points randomly distributed within a circle (radius 5).\n",
        "* Class 1: Data points randomly distributed within an annulus (inner radius 8, outer radius 10)."
      ],
      "metadata": {
        "id": "NLnzEJ0BEGbq"
      }
    },
    {
      "cell_type": "code",
      "source": [
        "import numpy as np\n",
        "import matplotlib.pyplot as plt"
      ],
      "metadata": {
        "id": "IJn15ZgLtLr9"
      },
      "execution_count": 5,
      "outputs": []
    },
    {
      "cell_type": "code",
      "source": [
        "def generate_data(n_points=200, seed=42):\n",
        "    np.random.seed(seed)\n",
        "\n",
        "    # Class 0: points inside a circle with radius 5\n",
        "\n",
        "    # Class 1: points in an annulus between radius 8 and 10\n",
        "\n",
        "    return class_0, class_1"
      ],
      "metadata": {
        "id": "0e91LA3YEHH1"
      },
      "execution_count": 1,
      "outputs": []
    },
    {
      "cell_type": "code",
      "source": [
        "class_0, class_1 = generate_data()"
      ],
      "metadata": {
        "id": "hOltsRFWE6Au",
        "colab": {
          "base_uri": "https://localhost:8080/",
          "height": 228
        },
        "outputId": "6a24bfc2-7299-4cbd-9844-c8fb2869ca43"
      },
      "execution_count": 6,
      "outputs": [
        {
          "output_type": "error",
          "ename": "NameError",
          "evalue": "name 'class_0' is not defined",
          "traceback": [
            "\u001b[0;31m---------------------------------------------------------------------------\u001b[0m",
            "\u001b[0;31mNameError\u001b[0m                                 Traceback (most recent call last)",
            "\u001b[0;32m<ipython-input-6-8313b018eb90>\u001b[0m in \u001b[0;36m<cell line: 1>\u001b[0;34m()\u001b[0m\n\u001b[0;32m----> 1\u001b[0;31m \u001b[0mclass_0\u001b[0m\u001b[0;34m,\u001b[0m \u001b[0mclass_1\u001b[0m \u001b[0;34m=\u001b[0m \u001b[0mgenerate_data\u001b[0m\u001b[0;34m(\u001b[0m\u001b[0;34m)\u001b[0m\u001b[0;34m\u001b[0m\u001b[0;34m\u001b[0m\u001b[0m\n\u001b[0m",
            "\u001b[0;32m<ipython-input-1-8139a9726f79>\u001b[0m in \u001b[0;36mgenerate_data\u001b[0;34m(n_points, seed)\u001b[0m\n\u001b[1;32m      6\u001b[0m     \u001b[0;31m# Class 1: points in an annulus between radius 8 and 10\u001b[0m\u001b[0;34m\u001b[0m\u001b[0;34m\u001b[0m\u001b[0m\n\u001b[1;32m      7\u001b[0m \u001b[0;34m\u001b[0m\u001b[0m\n\u001b[0;32m----> 8\u001b[0;31m     \u001b[0;32mreturn\u001b[0m \u001b[0mclass_0\u001b[0m\u001b[0;34m,\u001b[0m \u001b[0mclass_1\u001b[0m\u001b[0;34m\u001b[0m\u001b[0;34m\u001b[0m\u001b[0m\n\u001b[0m",
            "\u001b[0;31mNameError\u001b[0m: name 'class_0' is not defined"
          ]
        }
      ]
    },
    {
      "cell_type": "markdown",
      "source": [
        "\n",
        "Plot the generated data points on a 2D scatter plot using Matplotlib."
      ],
      "metadata": {
        "id": "pAaUx0G8E8Xy"
      }
    },
    {
      "cell_type": "code",
      "source": [],
      "metadata": {
        "id": "_j7axAdJE_ZI"
      },
      "execution_count": null,
      "outputs": []
    },
    {
      "cell_type": "markdown",
      "source": [
        "According to this visualization, point out why the standard linear classifiers would not work well for this setup."
      ],
      "metadata": {
        "id": "xs5uxrX9FFJl"
      }
    },
    {
      "cell_type": "code",
      "source": [],
      "metadata": {
        "id": "3QwA6OTHFeRc"
      },
      "execution_count": null,
      "outputs": []
    },
    {
      "cell_type": "markdown",
      "source": [
        "# Section 2"
      ],
      "metadata": {
        "id": "JA7eTwW2lnCt"
      }
    },
    {
      "cell_type": "markdown",
      "source": [
        "Importing Required Libraries"
      ],
      "metadata": {
        "id": "Jk9NyHbQ9t6C"
      }
    },
    {
      "cell_type": "code",
      "source": [],
      "metadata": {
        "id": "hZaX9ALn9t6D"
      },
      "execution_count": null,
      "outputs": []
    },
    {
      "cell_type": "markdown",
      "source": [
        "## Part A: Linearly Separable Data\n"
      ],
      "metadata": {
        "id": "NRAV7FDF9b92"
      }
    },
    {
      "cell_type": "markdown",
      "source": [
        "Generate 100 data points for each class:\n",
        "* Class A: \\\\(y > x \\\\), where \\\\(x \\\\) and \\\\(y \\\\) have uniform distributions such that \\\\(0 < x,  y < 10 \\\\).\n",
        "* Class B: \\\\( y < x \\\\), using the same range of sampling.\n"
      ],
      "metadata": {
        "id": "X3h9DLDA9oVD"
      }
    },
    {
      "cell_type": "code",
      "source": [
        "# Generate data for Class A\n",
        "class_A =\n",
        "\n",
        "# Generate data for Class B\n",
        "class_B =\n"
      ],
      "metadata": {
        "id": "UjaANj2tmSd2"
      },
      "execution_count": null,
      "outputs": []
    },
    {
      "cell_type": "markdown",
      "source": [
        "Plot the data points and include the decision boundary \\\\( y = x \\\\)."
      ],
      "metadata": {
        "id": "2TC74CSI-2db"
      }
    },
    {
      "cell_type": "code",
      "source": [],
      "metadata": {
        "id": "zUa7r8rU-2lX"
      },
      "execution_count": null,
      "outputs": []
    },
    {
      "cell_type": "markdown",
      "source": [
        "## Part B: Non-Linearly Separable Data (XOR Problem)"
      ],
      "metadata": {
        "id": "_-jBpjjo_0tz"
      }
    },
    {
      "cell_type": "markdown",
      "source": [
        "Generate 200 data points in the range between \\\\([0,1]\\\\) for both \\\\(x\\\\) and \\\\(y\\\\) and create classes based on the condition XOR:\n",
        "* Class A: \\\\(x > 0.5 \\text{ and } y > 0.5 \\\\) or \\\\(x < 0.5 \\text{ and } y < 0.5 \\\\).\n",
        "* Class B: \\\\(x > 0.5 \\text{ and } y < 0.5 \\\\), or \\\\(x < 0.5 \\text{ and } y > 0.5 \\\\)."
      ],
      "metadata": {
        "id": "7KB0y_30-2q3"
      }
    },
    {
      "cell_type": "code",
      "source": [
        "# Generate data for Class A\n",
        "class_A =\n",
        "\n",
        "# Generate data for Class B\n",
        "class_B =\n"
      ],
      "metadata": {
        "id": "3zFLNdIw-2v7"
      },
      "execution_count": null,
      "outputs": []
    },
    {
      "cell_type": "markdown",
      "source": [
        "Plot the data points. Try to draw a linear decision boundary. Comment on why the classes cannot be separated."
      ],
      "metadata": {
        "id": "5Ksf3cXp_CpA"
      }
    },
    {
      "cell_type": "code",
      "source": [],
      "metadata": {
        "id": "H8WReSdQ_DLv"
      },
      "execution_count": null,
      "outputs": []
    },
    {
      "cell_type": "markdown",
      "source": [
        "# Section 3"
      ],
      "metadata": {
        "id": "SaNNKHinmSxQ"
      }
    },
    {
      "cell_type": "markdown",
      "source": [
        "Importing Required Libraries"
      ],
      "metadata": {
        "id": "BzH_6Hli72wT"
      }
    },
    {
      "cell_type": "code",
      "source": [],
      "metadata": {
        "id": "2dimQcGd72wT"
      },
      "execution_count": null,
      "outputs": []
    },
    {
      "cell_type": "markdown",
      "source": [
        "Load the Breast Cancer dataset from `sklearn.datasets`.\n",
        "   - Select two features for visualization purposes (e.g., `mean radius` and `mean texture`).\n",
        "   - Split the dataset into training and testing sets."
      ],
      "metadata": {
        "id": "En76tSBWmNzQ"
      }
    },
    {
      "cell_type": "code",
      "source": [
        "# Load Breast Cancer dataset from sklearn\n"
      ],
      "metadata": {
        "id": "Ce-DqxM-mWbn"
      },
      "execution_count": 3,
      "outputs": []
    },
    {
      "cell_type": "code",
      "source": [
        "df = pd.DataFrame(X, columns=data.feature_names)\n",
        "df['target'] = y"
      ],
      "metadata": {
        "id": "bxZv7T6M8HKE",
        "colab": {
          "base_uri": "https://localhost:8080/",
          "height": 158
        },
        "outputId": "d53a2939-50a9-4892-8192-eb54b96d0b59"
      },
      "execution_count": 4,
      "outputs": [
        {
          "output_type": "error",
          "ename": "NameError",
          "evalue": "name 'pd' is not defined",
          "traceback": [
            "\u001b[0;31m---------------------------------------------------------------------------\u001b[0m",
            "\u001b[0;31mNameError\u001b[0m                                 Traceback (most recent call last)",
            "\u001b[0;32m<ipython-input-4-716d89a1606a>\u001b[0m in \u001b[0;36m<cell line: 1>\u001b[0;34m()\u001b[0m\n\u001b[0;32m----> 1\u001b[0;31m \u001b[0mdf\u001b[0m \u001b[0;34m=\u001b[0m \u001b[0mpd\u001b[0m\u001b[0;34m.\u001b[0m\u001b[0mDataFrame\u001b[0m\u001b[0;34m(\u001b[0m\u001b[0mX\u001b[0m\u001b[0;34m,\u001b[0m \u001b[0mcolumns\u001b[0m\u001b[0;34m=\u001b[0m\u001b[0mdata\u001b[0m\u001b[0;34m.\u001b[0m\u001b[0mfeature_names\u001b[0m\u001b[0;34m)\u001b[0m\u001b[0;34m\u001b[0m\u001b[0;34m\u001b[0m\u001b[0m\n\u001b[0m\u001b[1;32m      2\u001b[0m \u001b[0mdf\u001b[0m\u001b[0;34m[\u001b[0m\u001b[0;34m'target'\u001b[0m\u001b[0;34m]\u001b[0m \u001b[0;34m=\u001b[0m \u001b[0my\u001b[0m\u001b[0;34m\u001b[0m\u001b[0;34m\u001b[0m\u001b[0m\n",
            "\u001b[0;31mNameError\u001b[0m: name 'pd' is not defined"
          ]
        }
      ]
    },
    {
      "cell_type": "code",
      "source": [
        "# Select two features for visualization\n",
        "X = df[['mean radius', 'mean texture']].values"
      ],
      "metadata": {
        "id": "B4_xiBUf8C77"
      },
      "execution_count": null,
      "outputs": []
    },
    {
      "cell_type": "code",
      "source": [
        "# Split data into training and testing sets\n"
      ],
      "metadata": {
        "id": "8Hsyyz548Nfl"
      },
      "execution_count": null,
      "outputs": []
    },
    {
      "cell_type": "markdown",
      "source": [
        "Train a Ridge Classifier (A linear model that includes L2 regularization to handle collinearity and improve model robustness)."
      ],
      "metadata": {
        "id": "WQ3LqduwmYlj"
      }
    },
    {
      "cell_type": "code",
      "source": [],
      "metadata": {
        "id": "fmPUIb6GnIYt"
      },
      "execution_count": null,
      "outputs": []
    },
    {
      "cell_type": "markdown",
      "source": [
        "Train a Perceptron classifier as another linear classifier."
      ],
      "metadata": {
        "id": "JvPkFOj3nIl1"
      }
    },
    {
      "cell_type": "code",
      "source": [],
      "metadata": {
        "id": "7_dmlWigmavx"
      },
      "execution_count": null,
      "outputs": []
    },
    {
      "cell_type": "markdown",
      "source": [
        "Use a 5-fold cross-validation to test the performance of both models. then report the average accuracy of each classifier.\n",
        "\n",
        "Hint: Evaluate both models using the following metrics:\n",
        "- accuracy\n",
        "- precision\n",
        "- recall\n",
        "- F1-score."
      ],
      "metadata": {
        "id": "PB8gepRkma3T"
      }
    },
    {
      "cell_type": "code",
      "source": [
        "# Perform 5-fold cross-validation and calculate the average accuracy for each model\n",
        "def evaluate_model(clf, X, y):\n",
        "    pass"
      ],
      "metadata": {
        "id": "mbvTJt248nZE"
      },
      "execution_count": null,
      "outputs": []
    },
    {
      "cell_type": "code",
      "source": [],
      "metadata": {
        "id": "am5zMeqg8oRy"
      },
      "execution_count": null,
      "outputs": []
    },
    {
      "cell_type": "markdown",
      "source": [
        "Plot the decision boundaries for the two classifiers."
      ],
      "metadata": {
        "id": "MtvcwIij81qZ"
      }
    },
    {
      "cell_type": "code",
      "source": [],
      "metadata": {
        "id": "BejUYcyK816R"
      },
      "execution_count": null,
      "outputs": []
    },
    {
      "cell_type": "markdown",
      "source": [
        "# Section 4"
      ],
      "metadata": {
        "id": "MmNhKXn3oLHZ"
      }
    },
    {
      "cell_type": "markdown",
      "source": [
        "Importing Required Libraries"
      ],
      "metadata": {
        "id": "RYBQeY-R9h0t"
      }
    },
    {
      "cell_type": "code",
      "source": [],
      "metadata": {
        "id": "wGvZa76N9h0t"
      },
      "execution_count": null,
      "outputs": []
    },
    {
      "cell_type": "markdown",
      "source": [
        "Generate two classes of data points using the following parameters:\n",
        "\n",
        "\n",
        "*   Class A: 300 examples around the point (2, 2) with a small standard deviation which forms a compact cluster of points.\n",
        "*   Class B: 50 data points centered around the coordinates of, with a greater standard deviation, yielding a more sparse distribution.\n",
        "\n",
        "\n"
      ],
      "metadata": {
        "id": "2q5LczL7oMyT"
      }
    },
    {
      "cell_type": "code",
      "source": [
        "# Generate data for Class A\n",
        "class_A =\n",
        "\n",
        "# Generate data for Class B\n",
        "class_B =\n"
      ],
      "metadata": {
        "id": "C9V10NwuoVSL"
      },
      "execution_count": null,
      "outputs": []
    },
    {
      "cell_type": "markdown",
      "source": [
        "Perform the following to carry out a linear classifier:\n",
        "* Fit a linear model using scikit-learn's `LinearRegression`, so as to minimize the SSE.\n",
        "* Train the model on the generated data points."
      ],
      "metadata": {
        "id": "w5mFX640oVXg"
      }
    },
    {
      "cell_type": "code",
      "source": [],
      "metadata": {
        "id": "vQdBeBMioVct"
      },
      "execution_count": null,
      "outputs": []
    },
    {
      "cell_type": "markdown",
      "source": [
        "Training the model on the following:\n",
        "\n",
        "\n",
        "*   Plot the data points and the resulting decision boundary.\n",
        "\n",
        "*   Calculate the classification accuracy for both Class A and Class B separately."
      ],
      "metadata": {
        "id": "EBwJYRI7oVlM"
      }
    },
    {
      "cell_type": "code",
      "source": [],
      "metadata": {
        "id": "UIMMXbvSoVsl"
      },
      "execution_count": null,
      "outputs": []
    },
    {
      "cell_type": "markdown",
      "source": [
        "Improve the linear classifier by using the following modification to the cost function:\n",
        "\n",
        "*   Introduce class weights to balance the influence of Class A and Class B.\n",
        "*   Retrain the model using weighted least squares.\n",
        "*   Plot the new decision boundary and write a brief discussion on the improvements you observe in the model's performance."
      ],
      "metadata": {
        "id": "YuCifhstp3aZ"
      }
    },
    {
      "cell_type": "code",
      "source": [],
      "metadata": {
        "id": "woSDCIs7sBxJ"
      },
      "execution_count": null,
      "outputs": []
    },
    {
      "cell_type": "markdown",
      "source": [
        "# Section 5"
      ],
      "metadata": {
        "id": "3GDwHp8l5So0"
      }
    },
    {
      "cell_type": "markdown",
      "source": [
        "Importing Required Libraries"
      ],
      "metadata": {
        "id": "tVaW_4I_9jN1"
      }
    },
    {
      "cell_type": "code",
      "source": [],
      "metadata": {
        "id": "ySmtU-s-9jN1"
      },
      "execution_count": null,
      "outputs": []
    },
    {
      "cell_type": "markdown",
      "source": [
        "Use the same data set as in Section 4."
      ],
      "metadata": {
        "id": "B0oqs4_y7DcY"
      }
    },
    {
      "cell_type": "markdown",
      "source": [
        "Train a linear classifier, while directly minimizing the number of misclassifications."
      ],
      "metadata": {
        "id": "PTLDWCmT5UpC"
      }
    },
    {
      "cell_type": "code",
      "source": [],
      "metadata": {
        "id": "-p_VOLh15Uvi"
      },
      "execution_count": null,
      "outputs": []
    },
    {
      "cell_type": "markdown",
      "source": [
        "Since the misclassification error is not differentiable, employ an optimization heuristic for nonsmooth functions, such as simulated annealing or genetic algorithms."
      ],
      "metadata": {
        "id": "uYsCqeSQ5VRG"
      }
    },
    {
      "cell_type": "code",
      "source": [],
      "metadata": {
        "id": "nKVSHRGx25O1"
      },
      "execution_count": null,
      "outputs": []
    },
    {
      "cell_type": "markdown",
      "source": [
        "Plot the decision boundary obtained using this method."
      ],
      "metadata": {
        "id": "rvsSe2A85Vcl"
      }
    },
    {
      "cell_type": "code",
      "source": [],
      "metadata": {
        "id": "HBLTHGUG5Vhp"
      },
      "execution_count": null,
      "outputs": []
    },
    {
      "cell_type": "markdown",
      "source": [
        "Demonstrate, by writing code, why gradient descent won't converge to a solution with this cost function."
      ],
      "metadata": {
        "id": "QKrxJeTE68hY"
      }
    },
    {
      "cell_type": "code",
      "source": [],
      "metadata": {
        "id": "_aWW064E68mv"
      },
      "execution_count": null,
      "outputs": []
    },
    {
      "cell_type": "markdown",
      "source": [
        "Provide the alternatives to handle nondifferentiable cost functions."
      ],
      "metadata": {
        "id": "fvdkGYvC68rR"
      }
    },
    {
      "cell_type": "code",
      "source": [],
      "metadata": {
        "id": "pVvOBiHU795O"
      },
      "execution_count": null,
      "outputs": []
    }
  ]
}